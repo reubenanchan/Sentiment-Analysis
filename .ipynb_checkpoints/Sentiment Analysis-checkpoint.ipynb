{
 "cells": [
  {
   "cell_type": "markdown",
   "id": "545cd1d3-32e9-4108-ab2d-7d03c74e20ac",
   "metadata": {},
   "source": [
    "# Sentiment Analysis"
   ]
  },
  {
   "cell_type": "code",
   "execution_count": 1,
   "id": "874338a0-095b-4d5e-a50a-741dcc6ab271",
   "metadata": {},
   "outputs": [],
   "source": [
    "import torch\n",
    "import torch.nn as nn\n",
    "from torchtyping import TensorType"
   ]
  },
  {
   "cell_type": "code",
   "execution_count": 2,
   "id": "ce6cd41d-1925-4d63-bd98-903bef4f02b3",
   "metadata": {},
   "outputs": [],
   "source": [
    "device = torch.device('cuda' if torch.cuda.is_available() else 'cpu')\n",
    "\n",
    "list_of_strings = []\n",
    "list_of_labels = []\n",
    "\n",
    "import csv\n",
    "with open('EcoPreprocessed.csv') as csvfile:\n",
    "    reader = csv.reader(csvfile)\n",
    "    for row in reader:\n",
    "      list_of_strings.append(row[1])\n",
    "      list_of_labels.append(float(row[2]))"
   ]
  },
  {
   "cell_type": "code",
   "execution_count": 3,
   "id": "8461ed4c-8b0c-4f5a-880d-eb2997371b61",
   "metadata": {},
   "outputs": [],
   "source": [
    "def get_dataset(list_of_strings):\n",
    "        words = set()\n",
    "        for sentence in list_of_strings:\n",
    "            for word in sentence.split():\n",
    "                words.add(word)\n",
    "\n",
    "        vocabulary_size = len(words)\n",
    "        \n",
    "        sorted_list = sorted(list(words))\n",
    "        word_to_int = {}\n",
    "        for i, c in enumerate(sorted_list):\n",
    "            word_to_int[c] = i + 1\n",
    "\n",
    "        def encode(sentence):\n",
    "            integers = []\n",
    "            for word in sentence.split():\n",
    "                integers.append(word_to_int[word])\n",
    "            return integers\n",
    "\n",
    "        tensors = []\n",
    "        for sentence in list_of_strings:\n",
    "            tensors.append(torch.tensor(encode(sentence)))\n",
    "\n",
    "        return nn.utils.rnn.pad_sequence(tensors, batch_first=True), vocabulary_size + 1, word_to_int"
   ]
  },
  {
   "cell_type": "code",
   "execution_count": 4,
   "id": "9207212d-a2eb-4896-82bb-97cf5c635510",
   "metadata": {},
   "outputs": [],
   "source": [
    "training_dataset, vocab_size, word_to_int = get_dataset(list_of_strings)\n",
    "training_labels = torch.unsqueeze(torch.tensor(list_of_labels), dim = -1)"
   ]
  },
  {
   "cell_type": "code",
   "execution_count": 5,
   "id": "acdfacd5-368a-429c-9af4-2c66d870bd67",
   "metadata": {},
   "outputs": [],
   "source": [
    "class Solution(nn.Module):\n",
    "    def __init__(self, vocabulary_size: int, embedding_dimension: int):\n",
    "        super().__init__()\n",
    "        torch.manual_seed(0)\n",
    "        self.embedding_layer = nn.Embedding(vocabulary_size, embedding_dimension)\n",
    "        self.linear_layer = nn.Linear(embedding_dimension, 1)\n",
    "        self.tanh = nn.Tanh()\n",
    "        pass\n",
    "\n",
    "    def forward(self, x: TensorType[int]) -> TensorType[float]:\n",
    "        embed = self.embedding_layer(x)\n",
    "        average = torch.mean(embed, axis=1)\n",
    "        projected = self.linear_layer(average)\n",
    "        return self.tanh(projected)\n",
    "        pass"
   ]
  },
  {
   "cell_type": "code",
   "execution_count": 14,
   "id": "2013e32f-23c8-4632-8e94-2d69de264b1c",
   "metadata": {},
   "outputs": [
    {
     "name": "stdout",
     "output_type": "stream",
     "text": [
      "1.1428980827331543\n",
      "0.10114537924528122\n",
      "0.11631269007921219\n",
      "0.11385755240917206\n",
      "0.13156601786613464\n",
      "0.1279372125864029\n",
      "0.08182553201913834\n",
      "0.07628636807203293\n",
      "0.09965605288743973\n",
      "0.08477086573839188\n"
     ]
    }
   ],
   "source": [
    "embedding_dimension = 256\n",
    "model = Solution(vocab_size, embedding_dimension)\n",
    "loss_function = nn.MSELoss()\n",
    "optimizer = torch.optim.Adam(model.parameters())\n",
    "\n",
    "for i in range(1000):\n",
    "  randperm = torch.randperm(len(training_dataset))\n",
    "  training_dataset, training_labels = training_dataset[randperm], training_labels[randperm]\n",
    "  mini_batch = training_dataset[:150]\n",
    "  mini_batch_labels = training_labels[:150]\n",
    "  pred = model(mini_batch)\n",
    "  optimizer.zero_grad()\n",
    "  loss = loss_function(pred, mini_batch_labels)\n",
    "  if i % 100 == 0:\n",
    "    print(loss.item())\n",
    "  loss.backward()\n",
    "  optimizer.step()"
   ]
  },
  {
   "cell_type": "code",
   "execution_count": 19,
   "id": "1116204d-bfa4-44a7-8c11-61dc844be426",
   "metadata": {},
   "outputs": [
    {
     "name": "stdout",
     "output_type": "stream",
     "text": [
      "[[-0.9999973773956299], [0.9999677538871765], [-0.09320424497127533]]\n"
     ]
    }
   ],
   "source": [
    "example_one = \"worst movie ever\"\n",
    "\n",
    "example_two = \"best movie ever\"\n",
    "\n",
    "example_three = \"weird movie\"\n",
    "\n",
    "examples = [example_one] + [example_two] + [example_three]\n",
    "\n",
    "# Let's encode these strings as numbers using the dictionary from earlier\n",
    "var_len = []\n",
    "for example in examples:\n",
    "  int_version = []\n",
    "  for word in example.split():\n",
    "    int_version.append(word_to_int[word])\n",
    "  var_len.append(torch.tensor(int_version))\n",
    "\n",
    "testing_tensor = torch.nn.utils.rnn.pad_sequence(var_len, batch_first=True)\n",
    "model.eval()\n",
    "\n",
    "print(model(testing_tensor).tolist())"
   ]
  },
  {
   "cell_type": "code",
   "execution_count": null,
   "id": "bb4fe1d5-3cb9-4d87-ac88-49e80b9a309d",
   "metadata": {},
   "outputs": [],
   "source": []
  }
 ],
 "metadata": {
  "kernelspec": {
   "display_name": "Python 3 (ipykernel)",
   "language": "python",
   "name": "python3"
  },
  "language_info": {
   "codemirror_mode": {
    "name": "ipython",
    "version": 3
   },
   "file_extension": ".py",
   "mimetype": "text/x-python",
   "name": "python",
   "nbconvert_exporter": "python",
   "pygments_lexer": "ipython3",
   "version": "3.11.9"
  }
 },
 "nbformat": 4,
 "nbformat_minor": 5
}
